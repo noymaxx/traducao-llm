{
  "nbformat": 4,
  "nbformat_minor": 0,
  "metadata": {
    "colab": {
      "provenance": []
    },
    "kernelspec": {
      "name": "python3",
      "display_name": "Python 3"
    },
    "language_info": {
      "name": "python"
    }
  },
  "cells": [
    {
      "cell_type": "markdown",
      "source": [
        "# Tradução Automática e o Conjunto de Dados (eng→fra)\n",
        "Este notebook implementa a seção **9.5** do *Dive into Deep Learning* (D2L) para o par **inglês→francês**, incluindo:\n",
        "\n",
        "- Download e **pré-processamento** (inglês\\tfrancês)\n",
        "- **Tokenização** (nível de palavra) e **vocabulários** separados (src/tgt)\n",
        "- **Histograma** de comprimentos (tokens por sequência)\n",
        "- **Truncamento** / **padding** e carregamento em **minibatches**\n",
        "- **Experimentos 9.5.7** (efeito de `num_examples` nos vocabulários)\n"
      ],
      "metadata": {
        "id": "EB6Re_ELeVmk"
      }
    },
    {
      "cell_type": "code",
      "source": [
        "# (Opcional) instalar Hugging Face datasets — só se precisar dos fallbacks\n",
        "try:\n",
        "    import datasets  # noqa\n",
        "except Exception:\n",
        "    !pip -q install datasets==2.21.0\n",
        "\n",
        "import os, sys, io, csv, zipfile, urllib.request, random, math, typing as T\n",
        "import numpy as np\n",
        "import matplotlib.pyplot as plt\n",
        "\n",
        "print(\"Python:\", sys.version.split()[0])\n",
        "try:\n",
        "    import datasets\n",
        "    print(\"datasets:\", datasets.__version__)\n",
        "except Exception as e:\n",
        "    print(\"datasets: não instalado (só necessário nos fallbacks HF)\")\n"
      ],
      "metadata": {
        "colab": {
          "base_uri": "https://localhost:8080/"
        },
        "id": "LeBSnnUheOaz",
        "outputId": "38fbdd31-4d84-4b60-a24d-16c44d668ba5"
      },
      "execution_count": 1,
      "outputs": [
        {
          "output_type": "stream",
          "name": "stdout",
          "text": [
            "Python: 3.12.11\n",
            "datasets: 4.0.0\n"
          ]
        }
      ]
    },
    {
      "cell_type": "markdown",
      "source": [
        "## 1) Configuração\n",
        "Ajuste `NUM_EXAMPLES` (para os experimentos) e `NUM_STEPS` (tamanho fixo por sequência após truncamento/padding).\n"
      ],
      "metadata": {
        "id": "fYWjrPiQehha"
      }
    },
    {
      "cell_type": "code",
      "execution_count": 2,
      "metadata": {
        "id": "y_aupm69eNQU"
      },
      "outputs": [],
      "source": [
        "# Par de idiomas (fixo em eng→fra nesta seção)\n",
        "SRC_LANG = 'eng'\n",
        "TGT_LANG = 'fra'\n",
        "\n",
        "# Limites de dados\n",
        "NUM_EXAMPLES = 60000       # usado no fluxo principal (corte após obter os dados)\n",
        "MAX_LEN = 50               # descartar sequências muito longas antes de construir vocabulário\n",
        "\n",
        "# Batching para a etapa 9.5 (não é treinamento de modelo; só minibatches p/ visualização)\n",
        "BATCH_SIZE = 2\n",
        "NUM_STEPS = 8              # comprimento fixo por sequência após truncamento/padding (para fins didáticos)\n",
        "\n",
        "# Experimentos 9.5.7: varredura de exemplos\n",
        "NUM_EXAMPLES_SWEEP = [500, 1000, 2000, 6000, 10000, 20000]\n",
        "\n",
        "# Vocabulário\n",
        "MIN_FREQ = 2\n",
        "RESERVED_TOKENS = ['<pad>', '<bos>', '<eos>']\n",
        "\n",
        "# Semente\n",
        "SEED = 42\n",
        "random.seed(SEED)\n",
        "np.random.seed(SEED)\n"
      ]
    },
    {
      "cell_type": "markdown",
      "source": [
        "## 2) Obtenção do conjunto de dados (eng–fra) com fallbacks\n",
        "\n",
        "Ordem de tentativas:\n",
        "1. **D2L S3** (`fra-eng.zip` → `fra.txt`)\n",
        "2. **TensorFlow GCS** (`fra-eng.zip` → `fra.txt`)\n",
        "3. **Hugging Face — Tatoeba Challenge** (`Helsinki-NLP/tatoeba_mt`, config `eng-fra`)\n",
        "4. **Hugging Face — OPUS Books** (`opus_books`, config `en-fr`)\n",
        "5. **Upload manual** de um `.tsv/.txt` no formato `ENGLISH<TAB>FRENCH`\n",
        "\n",
        "No final, produzimos `raw_text` com linhas `english\\tfrench`.\n"
      ],
      "metadata": {
        "id": "XGpWeYuKeke-"
      }
    },
    {
      "cell_type": "code",
      "source": [
        "def _fetch(url: str, out_path: str, headers: dict | None = None) -> bool:\n",
        "    try:\n",
        "        print(\"Baixando:\", url)\n",
        "        if headers:\n",
        "            req = urllib.request.Request(url, headers=headers)\n",
        "            with urllib.request.urlopen(req, timeout=60) as r, open(out_path, \"wb\") as f:\n",
        "                f.write(r.read())\n",
        "        else:\n",
        "            urllib.request.urlretrieve(url, out_path)\n",
        "        return True\n",
        "    except Exception as e:\n",
        "        print(\"Falhou:\", e)\n",
        "        return False\n",
        "\n",
        "def _extract_first_txt(zip_path: str, dest: str = \"/content\") -> str | None:\n",
        "    try:\n",
        "        with zipfile.ZipFile(zip_path, 'r') as zf:\n",
        "            zf.extractall(dest)\n",
        "            txts = [n for n in zf.namelist() if n.endswith(\".txt\")]\n",
        "            if txts:\n",
        "                return os.path.join(dest, txts[0])\n",
        "    except Exception as e:\n",
        "        print(\"Falha ao extrair:\", e)\n",
        "    return None\n",
        "\n",
        "def _load_raw_from_txt(path: str, max_items: int | None = None) -> str:\n",
        "    \"\"\"Lê arquivo com linhas 'eng\\\\tfra' e devolve uma string grande com o mesmo formato.\"\"\"\n",
        "    buf = []\n",
        "    with open(path, \"r\", encoding=\"utf-8\", errors=\"ignore\") as f:\n",
        "        for i, line in enumerate(f):\n",
        "            if max_items and i >= max_items: break\n",
        "            parts = line.rstrip(\"\\n\")\n",
        "            if parts.count(\"\\t\") >= 1:\n",
        "                # mantém apenas as 2 primeiras colunas\n",
        "                a, b = parts.split(\"\\t\")[:2]\n",
        "                buf.append(f\"{a}\\t{b}\")\n",
        "    return \"\\n\".join(buf)\n",
        "\n",
        "def _load_raw_tatoeba_hf(max_items: int | None = None) -> tuple[str | None, int]:\n",
        "    \"\"\"Hugging Face: Helsinki-NLP/tatoeba_mt (split 'test' costuma ter pares).\"\"\"\n",
        "    try:\n",
        "        from datasets import load_dataset\n",
        "        ds = load_dataset(\"Helsinki-NLP/tatoeba_mt\", \"eng-fra\", split=\"test\")\n",
        "        rows = []\n",
        "        for i, ex in enumerate(ds):\n",
        "            # formato comum: source_sentence / target_sentence\n",
        "            if \"source_sentence\" in ex and \"target_sentence\" in ex:\n",
        "                rows.append(f\"{ex['source_sentence']}\\t{ex['target_sentence']}\")\n",
        "            elif \"translation\" in ex and isinstance(ex[\"translation\"], dict):\n",
        "                tr = ex[\"translation\"]\n",
        "                if \"en\" in tr and \"fr\" in tr:\n",
        "                    rows.append(f\"{tr['en']}\\t{tr['fr']}\")\n",
        "            if max_items and len(rows) >= max_items:\n",
        "                break\n",
        "        return (\"\\n\".join(rows), len(rows)) if rows else (None, 0)\n",
        "    except Exception as e:\n",
        "        print(\"[HF:tatoeba_mt] Falhou:\", e)\n",
        "        return (None, 0)\n",
        "\n",
        "def _load_raw_opus_books(max_items: int | None = None) -> tuple[str | None, int]:\n",
        "    \"\"\"Hugging Face: opus_books en-fr.\"\"\"\n",
        "    try:\n",
        "        from datasets import load_dataset\n",
        "        ds = load_dataset(\"opus_books\", \"en-fr\", split=\"train\")\n",
        "        rows = []\n",
        "        for i, ex in enumerate(ds):\n",
        "            tr = ex.get(\"translation\", {})\n",
        "            if \"en\" in tr and \"fr\" in tr:\n",
        "                rows.append(f\"{tr['en']}\\t{tr['fr']}\")\n",
        "            if max_items and len(rows) >= max_items:\n",
        "                break\n",
        "        return (\"\\n\".join(rows), len(rows)) if rows else (None, 0)\n",
        "    except Exception as e:\n",
        "        print(\"[HF:opus_books] Falhou:\", e)\n",
        "        return (None, 0)\n",
        "\n",
        "def get_raw_text_eng_fra(max_items: int | None = None) -> tuple[str, str]:\n",
        "    \"\"\"Orquestra as fontes e retorna (raw_text, fonte).\"\"\"\n",
        "    # 1) D2L S3\n",
        "    d2l_url = \"http://d2l-data.s3-accelerate.amazonaws.com/fra-eng.zip\"\n",
        "    out = \"/content/fra-eng_d2l.zip\"\n",
        "    if _fetch(d2l_url, out):\n",
        "        txt = _extract_first_txt(out, \"/content\")\n",
        "        if txt and os.path.exists(txt):\n",
        "            print(\"Fonte: D2L S3\")\n",
        "            return _load_raw_from_txt(txt, max_items), \"D2L S3\"\n",
        "\n",
        "    # 2) TensorFlow GCS\n",
        "    tf_url = \"https://storage.googleapis.com/download.tensorflow.org/data/fra-eng.zip\"\n",
        "    out = \"/content/fra-eng_tf.zip\"\n",
        "    if _fetch(tf_url, out):\n",
        "        txt = _extract_first_txt(out, \"/content\")\n",
        "        # normalmente o nome é 'fra.txt'\n",
        "        if not txt and os.path.exists(\"/content/fra.txt\"):\n",
        "            txt = \"/content/fra.txt\"\n",
        "        if txt and os.path.exists(txt):\n",
        "            print(\"Fonte: TensorFlow GCS\")\n",
        "            return _load_raw_from_txt(txt, max_items), \"TF GCS\"\n",
        "\n",
        "    # 3) Hugging Face — Tatoeba\n",
        "    raw, n = _load_raw_tatoeba_hf(max_items=max_items)\n",
        "    if raw:\n",
        "        print(\"Fonte: HF Tatoeba (Helsinki)\")\n",
        "        return raw, \"HF Tatoeba\"\n",
        "\n",
        "    # 4) Hugging Face — OPUS Books\n",
        "    raw, n = _load_raw_opus_books(max_items=max_items)\n",
        "    if raw:\n",
        "        print(\"Fonte: HF OPUS Books\")\n",
        "        return raw, \"HF OPUS Books\"\n",
        "\n",
        "    # 5) Upload manual (Colab)\n",
        "    try:\n",
        "        from google.colab import files\n",
        "        print(\"⚠️ Faça upload de um .tsv/.txt com 'ENGLISH<TAB>FRENCH'...\")\n",
        "        up = files.upload()\n",
        "        for name, content in up.items():\n",
        "            text = content.decode(\"utf-8\", errors=\"ignore\")\n",
        "            # valida se há TABs\n",
        "            if \"\\t\" in text:\n",
        "                print(\"Fonte: Upload manual\")\n",
        "                # Se max_items, corta\n",
        "                lines = text.splitlines()\n",
        "                if max_items: lines = lines[:max_items]\n",
        "                return \"\\n\".join(lines), \"Upload manual\"\n",
        "    except Exception as e:\n",
        "        print(\"Upload manual indisponível (fora do Colab?):\", e)\n",
        "\n",
        "    raise RuntimeError(\"Não foi possível obter dados de eng–fra (D2L/TF/HF/upload).\")\n",
        "\n",
        "# Executar a aquisição\n",
        "raw_text, DATA_SOURCE = get_raw_text_eng_fra(max_items=NUM_EXAMPLES)\n",
        "print(\"Primeiras linhas:\\n\", \"\\n\".join(raw_text.splitlines()[:5]))\n",
        "print(\"Fonte de dados:\", DATA_SOURCE)\n"
      ],
      "metadata": {
        "colab": {
          "base_uri": "https://localhost:8080/"
        },
        "id": "WSHaPZrXejwt",
        "outputId": "2cbcea5b-fc73-4fe5-c35b-7561db2c0c73"
      },
      "execution_count": 4,
      "outputs": [
        {
          "output_type": "stream",
          "name": "stdout",
          "text": [
            "Baixando: http://d2l-data.s3-accelerate.amazonaws.com/fra-eng.zip\n",
            "Fonte: D2L S3\n",
            "Primeiras linhas:\n",
            " Go.\tVa !\n",
            "Hi.\tSalut !\n",
            "Run!\tCours !\n",
            "Run!\tCourez !\n",
            "Who?\tQui ?\n",
            "Fonte de dados: D2L S3\n"
          ]
        }
      ]
    },
    {
      "cell_type": "markdown",
      "source": [
        "## 3) Pré-processamento\n",
        "- Substitui NBSP por espaço; **lowercase**\n",
        "- Insere espaço antes de pontuações (`.,!?`) quando necessário\n"
      ],
      "metadata": {
        "id": "M1Jq2EZXesyW"
      }
    },
    {
      "cell_type": "code",
      "source": [
        "def preprocess_nmt(text: str) -> str:\n",
        "    def no_space(char, prev_char):\n",
        "        return char in set(',.!?') and prev_char != ' '\n",
        "    # NBSP → espaço, minúsculas\n",
        "    text = text.replace('\\u202f', ' ').replace('\\xa0', ' ').lower()\n",
        "    # inserir espaço apropriado antes de pontuação\n",
        "    out = [' ' + c if i > 0 and no_space(c, text[i-1]) else c\n",
        "           for i, c in enumerate(text)]\n",
        "    return ''.join(out)\n",
        "\n",
        "text = preprocess_nmt(raw_text)\n",
        "print(\"\\n\".join(text.splitlines()[:5]))\n"
      ],
      "metadata": {
        "colab": {
          "base_uri": "https://localhost:8080/"
        },
        "id": "q0T28lZzeomy",
        "outputId": "39b4725c-721e-4ecc-8482-32aace01263f"
      },
      "execution_count": 5,
      "outputs": [
        {
          "output_type": "stream",
          "name": "stdout",
          "text": [
            "go .\tva !\n",
            "hi .\tsalut !\n",
            "run !\tcours !\n",
            "run !\tcourez !\n",
            "who ?\tqui ?\n"
          ]
        }
      ]
    },
    {
      "cell_type": "code",
      "source": [],
      "metadata": {
        "id": "bp6tA1-Re05D"
      },
      "execution_count": null,
      "outputs": []
    },
    {
      "cell_type": "markdown",
      "source": [
        "## 4) Tokenização (nível de palavra)\n",
        "Converte cada linha `eng\\tfra` em duas listas de tokens.\n"
      ],
      "metadata": {
        "id": "u8-tUr1Ce0t6"
      }
    },
    {
      "cell_type": "code",
      "source": [
        "def tokenize_nmt(text: str, num_examples: int | None = None):\n",
        "    src, tgt = [], []\n",
        "    for i, line in enumerate(text.split(\"\\n\")):\n",
        "        if not line.strip():\n",
        "            continue\n",
        "        if num_examples is not None and i >= num_examples:\n",
        "            break\n",
        "        parts = line.split(\"\\t\")\n",
        "        if len(parts) < 2:\n",
        "            continue\n",
        "        src.append(parts[0].split(\" \"))\n",
        "        tgt.append(parts[1].split(\" \"))\n",
        "    return src, tgt\n",
        "\n",
        "source, target = tokenize_nmt(text, num_examples=None)\n",
        "print(\"Exemplos tokenizados (6):\")\n",
        "print(source[:6], target[:6])\n"
      ],
      "metadata": {
        "colab": {
          "base_uri": "https://localhost:8080/"
        },
        "id": "pxbhcoAaewGq",
        "outputId": "4cc22585-af7b-47fe-f5d1-6fdf8b09b1f9"
      },
      "execution_count": 6,
      "outputs": [
        {
          "output_type": "stream",
          "name": "stdout",
          "text": [
            "Exemplos tokenizados (6):\n",
            "[['go', '.'], ['hi', '.'], ['run', '!'], ['run', '!'], ['who', '?'], ['wow', '!']] [['va', '!'], ['salut', '!'], ['cours', '!'], ['courez', '!'], ['qui', '?'], ['ça', 'alors', '!']]\n"
          ]
        }
      ]
    },
    {
      "cell_type": "markdown",
      "source": [
        "## 5) Histograma — nº de tokens por sequência\n",
        "A maior parte das sequências costuma ter menos de ~20 tokens.\n"
      ],
      "metadata": {
        "id": "s5fpPORwe8Ln"
      }
    },
    {
      "cell_type": "code",
      "source": [
        "plt.figure()\n",
        "_ = plt.hist([[len(x) for x in source], [len(y) for y in target]], label=[\"source\", \"target\"])\n",
        "plt.legend(loc=\"upper right\")\n",
        "plt.title(\"Distribuição de comprimentos (tokens por sequência)\")\n",
        "plt.xlabel(\"nº tokens\")\n",
        "plt.ylabel(\"frequência\")\n",
        "plt.show()\n"
      ],
      "metadata": {
        "colab": {
          "base_uri": "https://localhost:8080/",
          "height": 472
        },
        "id": "27YzRcnae4i9",
        "outputId": "eb796558-9ad0-4c39-e15a-3862723db390"
      },
      "execution_count": 7,
      "outputs": [
        {
          "output_type": "display_data",
          "data": {
            "text/plain": [
              "<Figure size 640x480 with 1 Axes>"
            ],
            "image/png": "[encoded data removed]"
          },
          "metadata": {}
        }
      ]
    },
    {
      "cell_type": "markdown",
      "source": [
        "## 6) Vocabulários (src/tgt)\n",
        "- **`min_freq=2`** → tokens raros viram `<unk>`  \n",
        "- **Reservados**: `<pad>`, `<bos>`, `<eos>`\n"
      ],
      "metadata": {
        "id": "l8ehtsEIe_uc"
      }
    },
    {
      "cell_type": "code",
      "source": [
        "from collections import Counter, defaultdict\n",
        "\n",
        "class Vocab:\n",
        "    def __init__(self, tokens: list[list[str]], min_freq=1, reserved_tokens=None):\n",
        "        reserved_tokens = reserved_tokens or []\n",
        "        # contagem\n",
        "        counter = Counter()\n",
        "        for seq in tokens:\n",
        "            counter.update(seq)\n",
        "        # ordem: reservados primeiro\n",
        "        self.itos = list(reserved_tokens)\n",
        "        self.stoi = {}\n",
        "        # adiciona por frequência\n",
        "        for tok, freq in counter.most_common():\n",
        "            if freq >= min_freq and tok not in self.itos:\n",
        "                self.itos.append(tok)\n",
        "        # mapeamentos\n",
        "        for i, tok in enumerate(self.itos):\n",
        "            self.stoi[tok] = i\n",
        "        # <unk>\n",
        "        if \"<unk>\" not in self.stoi:\n",
        "            self.itos.append(\"<unk>\")\n",
        "            self.stoi[\"<unk>\"] = len(self.itos) - 1\n",
        "\n",
        "    def __len__(self):\n",
        "        return len(self.itos)\n",
        "\n",
        "    def to_indices(self, tokens: list[str]) -> list[int]:\n",
        "        return [self.stoi.get(t, self.stoi[\"<unk>\"]) for t in tokens]\n",
        "\n",
        "# construir src/tgt vocabulários\n",
        "src_vocab = Vocab(source, min_freq=MIN_FREQ, reserved_tokens=RESERVED_TOKENS)\n",
        "tgt_vocab = Vocab(target, min_freq=MIN_FREQ, reserved_tokens=RESERVED_TOKENS)\n",
        "print(\"Tamanho vocab SRC:\", len(src_vocab))\n",
        "print(\"Tamanho vocab TGT:\", len(tgt_vocab))\n"
      ],
      "metadata": {
        "colab": {
          "base_uri": "https://localhost:8080/"
        },
        "id": "fH4ZFYPde_Lh",
        "outputId": "ba71abf1-ad26-41d0-8693-6bae4a55c924"
      },
      "execution_count": 8,
      "outputs": [
        {
          "output_type": "stream",
          "name": "stdout",
          "text": [
            "Tamanho vocab SRC: 4764\n",
            "Tamanho vocab TGT: 8224\n"
          ]
        }
      ]
    },
    {
      "cell_type": "markdown",
      "source": [
        "## 7) Truncamento / Padding e Minibatches\n",
        "- `truncate_pad`: corta ou preenche até `NUM_STEPS`\n",
        "- `build_array_nmt`: converte listas de tokens em índices + `<eos>`, aplica `truncate_pad`, computa `valid_len`\n",
        "- `load_data_nmt`: junta tudo e cria um *data loader* simples\n"
      ],
      "metadata": {
        "id": "VsrL1wrgfGbu"
      }
    },
    {
      "cell_type": "code",
      "source": [
        "def truncate_pad(line_ids: list[int], num_steps: int, pad_id: int) -> list[int]:\n",
        "    if len(line_ids) > num_steps:\n",
        "        return line_ids[:num_steps]\n",
        "    return line_ids + [pad_id] * (num_steps - len(line_ids))\n",
        "\n",
        "def build_array_nmt(lines: list[list[str]], vocab: Vocab, num_steps: int):\n",
        "    # adiciona <eos>\n",
        "    eos_id = vocab.stoi[\"<eos>\"]\n",
        "    pad_id = vocab.stoi[\"<pad>\"]\n",
        "    arr = []\n",
        "    valid_len = []\n",
        "    for toks in lines:\n",
        "        ids = vocab.to_indices(toks) + [eos_id]\n",
        "        ids = truncate_pad(ids, num_steps, pad_id)\n",
        "        arr.append(ids)\n",
        "        valid_len.append(sum(1 for x in ids if x != pad_id))\n",
        "    return np.array(arr, dtype=np.int32), np.array(valid_len, dtype=np.int32)\n",
        "\n",
        "def load_data_nmt(batch_size: int, num_steps: int, num_examples: int = 600):\n",
        "    # limitar o conjunto de trabalho\n",
        "    n = min(num_examples, len(source), len(target))\n",
        "    src = source[:n]\n",
        "    tgt = target[:n]\n",
        "\n",
        "    # vocabulários específicos do subconjunto\n",
        "    src_v = Vocab(src, min_freq=MIN_FREQ, reserved_tokens=RESERVED_TOKENS)\n",
        "    tgt_v = Vocab(tgt, min_freq=MIN_FREQ, reserved_tokens=RESERVED_TOKENS)\n",
        "\n",
        "    src_array, src_valid_len = build_array_nmt(src, src_v, num_steps)\n",
        "    tgt_array, tgt_valid_len = build_array_nmt(tgt, tgt_v, num_steps)\n",
        "\n",
        "    # simples gerador em lotes (embaralha por época)\n",
        "    idx = np.arange(n)\n",
        "    def data_iter():\n",
        "        while True:\n",
        "            np.random.shuffle(idx)\n",
        "            for i in range(0, n, batch_size):\n",
        "                batch_idx = idx[i:i+batch_size]\n",
        "                yield (src_array[batch_idx], src_valid_len[batch_idx],\n",
        "                       tgt_array[batch_idx], tgt_valid_len[batch_idx])\n",
        "    return data_iter(), src_v, tgt_v\n",
        "\n",
        "train_iter, src_v_small, tgt_v_small = load_data_nmt(BATCH_SIZE, NUM_STEPS, num_examples=600)\n",
        "X, X_len, Y, Y_len = next(train_iter)\n",
        "print(\"X:\\n\", X)\n",
        "print(\"valid lengths for X:\", X_len)\n",
        "print(\"Y:\\n\", Y)\n",
        "print(\"valid lengths for Y:\", Y_len)\n"
      ],
      "metadata": {
        "colab": {
          "base_uri": "https://localhost:8080/"
        },
        "id": "nAXAdmYxfDwb",
        "outputId": "e5bf7c8d-0a2b-4f72-c5a3-83f52a7f18a4"
      },
      "execution_count": 9,
      "outputs": [
        {
          "output_type": "stream",
          "name": "stdout",
          "text": [
            "X:\n",
            " [[12 33  4  2  0  0  0  0]\n",
            " [60  9  3  2  0  0  0  0]]\n",
            "valid lengths for X: [4 4]\n",
            "Y:\n",
            " [[120   4   2   0   0   0   0   0]\n",
            " [200   7   3   2   0   0   0   0]]\n",
            "valid lengths for Y: [3 4]\n"
          ]
        }
      ]
    },
    {
      "cell_type": "markdown",
      "source": [
        "## 8) Experimentos — Seção 9.5.7\n",
        "> **Pergunta 1:** Varie `num_examples` e observe como mudam os tamanhos de vocabulário (src/tgt).  \n",
        "> **Pergunta 2:** Em idiomas sem separadores de palavra (ex.: chinês/japonês), tokenização em nível de palavra ainda é uma boa ideia?\n"
      ],
      "metadata": {
        "id": "vd4efFnPfKQG"
      }
    },
    {
      "cell_type": "code",
      "source": [
        "import pandas as pd\n",
        "\n",
        "def vocab_sizes_with(num_examples: int) -> tuple[int, int]:\n",
        "    n = min(num_examples, len(source), len(target))\n",
        "    src_sub = source[:n]\n",
        "    tgt_sub = target[:n]\n",
        "    s_vocab = Vocab(src_sub, min_freq=MIN_FREQ, reserved_tokens=RESERVED_TOKENS)\n",
        "    t_vocab = Vocab(tgt_sub, min_freq=MIN_FREQ, reserved_tokens=RESERVED_TOKENS)\n",
        "    return len(s_vocab), len(t_vocab)\n",
        "\n",
        "rows = []\n",
        "for n in NUM_EXAMPLES_SWEEP:\n",
        "    vs, vt = vocab_sizes_with(n)\n",
        "    rows.append({\"num_examples\": n, \"vocab_src\": vs, \"vocab_tgt\": vt})\n",
        "df_vocab = pd.DataFrame(rows)\n",
        "df_vocab\n"
      ],
      "metadata": {
        "colab": {
          "base_uri": "https://localhost:8080/",
          "height": 238
        },
        "id": "zvIE9Z9AfNak",
        "outputId": "47311cef-d3e5-4839-f820-751a9f6ab53b"
      },
      "execution_count": 10,
      "outputs": [
        {
          "output_type": "execute_result",
          "data": {
            "text/plain": [
              "   num_examples  vocab_src  vocab_tgt\n",
              "0           500        159        163\n",
              "1          1000        266        321\n",
              "2          2000        454        585\n",
              "3          6000       1037       1454\n",
              "4         10000       1505       2252\n",
              "5         20000       2459       3828"
            ],
            "text/html": [
              "\n",
              "  <div id=\"df-373f0c34-cbac-4211-a1c1-e374aeaa56ed\" class=\"colab-df-container\">\n",
              "    <div>\n",
              "<style scoped>\n",
              "    .dataframe tbody tr th:only-of-type {\n",
              "        vertical-align: middle;\n",
              "    }\n",
              "\n",
              "    .dataframe tbody tr th {\n",
              "        vertical-align: top;\n",
              "    }\n",
              "\n",
              "    .dataframe thead th {\n",
              "        text-align: right;\n",
              "    }\n",
              "</style>\n",
              "<table border=\"1\" class=\"dataframe\">\n",
              "  <thead>\n",
              "    <tr style=\"text-align: right;\">\n",
              "      <th></th>\n",
              "      <th>num_examples</th>\n",
              "      <th>vocab_src</th>\n",
              "      <th>vocab_tgt</th>\n",
              "    </tr>\n",
              "  </thead>\n",
              "  <tbody>\n",
              "    <tr>\n",
              "      <th>0</th>\n",
              "      <td>500</td>\n",
              "      <td>159</td>\n",
              "      <td>163</td>\n",
              "    </tr>\n",
              "    <tr>\n",
              "      <th>1</th>\n",
              "      <td>1000</td>\n",
              "      <td>266</td>\n",
              "      <td>321</td>\n",
              "    </tr>\n",
              "    <tr>\n",
              "      <th>2</th>\n",
              "      <td>2000</td>\n",
              "      <td>454</td>\n",
              "      <td>585</td>\n",
              "    </tr>\n",
              "    <tr>\n",
              "      <th>3</th>\n",
              "      <td>6000</td>\n",
              "      <td>1037</td>\n",
              "      <td>1454</td>\n",
              "    </tr>\n",
              "    <tr>\n",
              "      <th>4</th>\n",
              "      <td>10000</td>\n",
              "      <td>1505</td>\n",
              "      <td>2252</td>\n",
              "    </tr>\n",
              "    <tr>\n",
              "      <th>5</th>\n",
              "      <td>20000</td>\n",
              "      <td>2459</td>\n",
              "      <td>3828</td>\n",
              "    </tr>\n",
              "  </tbody>\n",
              "</table>\n",
              "</div>\n",
              "    <div class=\"colab-df-buttons\">\n",
              "\n",
              "  <div class=\"colab-df-container\">\n",
              "    <button class=\"colab-df-convert\" onclick=\"convertToInteractive('df-373f0c34-cbac-4211-a1c1-e374aeaa56ed')\"\n",
              "            title=\"Convert this dataframe to an interactive table.\"\n",
              "            style=\"display:none;\">\n",
              "\n",
              "  <svg xmlns=\"http://www.w3.org/2000/svg\" height=\"24px\" viewBox=\"0 -960 960 960\">\n",
              "    <path d=\"M120-120v-720h720v720H120Zm60-500h600v-160H180v160Zm220 220h160v-160H400v160Zm0 220h160v-160H400v160ZM180-400h160v-160H180v160Zm440 0h160v-160H620v160ZM180-180h160v-160H180v160Zm440 0h160v-160H620v160Z\"/>\n",
              "  </svg>\n",
              "    </button>\n",
              "\n",
              "  <style>\n",
              "    .colab-df-container {\n",
              "      display:flex;\n",
              "      gap: 12px;\n",
              "    }\n",
              "\n",
              "    .colab-df-convert {\n",
              "      background-color: #E8F0FE;\n",
              "      border: none;\n",
              "      border-radius: 50%;\n",
              "      cursor: pointer;\n",
              "      display: none;\n",
              "      fill: #1967D2;\n",
              "      height: 32px;\n",
              "      padding: 0 0 0 0;\n",
              "      width: 32px;\n",
              "    }\n",
              "\n",
              "    .colab-df-convert:hover {\n",
              "      background-color: #E2EBFA;\n",
              "      box-shadow: 0px 1px 2px rgba(60, 64, 67, 0.3), 0px 1px 3px 1px rgba(60, 64, 67, 0.15);\n",
              "      fill: #174EA6;\n",
              "    }\n",
              "\n",
              "    .colab-df-buttons div {\n",
              "      margin-bottom: 4px;\n",
              "    }\n",
              "\n",
              "    [theme=dark] .colab-df-convert {\n",
              "      background-color: #3B4455;\n",
              "      fill: #D2E3FC;\n",
              "    }\n",
              "\n",
              "    [theme=dark] .colab-df-convert:hover {\n",
              "      background-color: #434B5C;\n",
              "      box-shadow: 0px 1px 3px 1px rgba(0, 0, 0, 0.15);\n",
              "      filter: drop-shadow(0px 1px 2px rgba(0, 0, 0, 0.3));\n",
              "      fill: #FFFFFF;\n",
              "    }\n",
              "  </style>\n",
              "\n",
              "    <script>\n",
              "      const buttonEl =\n",
              "        document.querySelector('#df-373f0c34-cbac-4211-a1c1-e374aeaa56ed button.colab-df-convert');\n",
              "      buttonEl.style.display =\n",
              "        google.colab.kernel.accessAllowed ? 'block' : 'none';\n",
              "\n",
              "      async function convertToInteractive(key) {\n",
              "        const element = document.querySelector('#df-373f0c34-cbac-4211-a1c1-e374aeaa56ed');\n",
              "        const dataTable =\n",
              "          await google.colab.kernel.invokeFunction('convertToInteractive',\n",
              "                                                    [key], {});\n",
              "        if (!dataTable) return;\n",
              "\n",
              "        const docLinkHtml = 'Like what you see? Visit the ' +\n",
              "          '<a target=\"_blank\" href=https://colab.research.google.com/notebooks/data_table.ipynb>data table notebook</a>'\n",
              "          + ' to learn more about interactive tables.';\n",
              "        element.innerHTML = '';\n",
              "        dataTable['output_type'] = 'display_data';\n",
              "        await google.colab.output.renderOutput(dataTable, element);\n",
              "        const docLink = document.createElement('div');\n",
              "        docLink.innerHTML = docLinkHtml;\n",
              "        element.appendChild(docLink);\n",
              "      }\n",
              "    </script>\n",
              "  </div>\n",
              "\n",
              "\n",
              "    <div id=\"df-730c5011-c6fd-457a-8f08-2e97d70662aa\">\n",
              "      <button class=\"colab-df-quickchart\" onclick=\"quickchart('df-730c5011-c6fd-457a-8f08-2e97d70662aa')\"\n",
              "                title=\"Suggest charts\"\n",
              "                style=\"display:none;\">\n",
              "\n",
              "<svg xmlns=\"http://www.w3.org/2000/svg\" height=\"24px\"viewBox=\"0 0 24 24\"\n",
              "     width=\"24px\">\n",
              "    <g>\n",
              "        <path d=\"M19 3H5c-1.1 0-2 .9-2 2v14c0 1.1.9 2 2 2h14c1.1 0 2-.9 2-2V5c0-1.1-.9-2-2-2zM9 17H7v-7h2v7zm4 0h-2V7h2v10zm4 0h-2v-4h2v4z\"/>\n",
              "    </g>\n",
              "</svg>\n",
              "      </button>\n",
              "\n",
              "<style>\n",
              "  .colab-df-quickchart {\n",
              "      --bg-color: #E8F0FE;\n",
              "      --fill-color: #1967D2;\n",
              "      --hover-bg-color: #E2EBFA;\n",
              "      --hover-fill-color: #174EA6;\n",
              "      --disabled-fill-color: #AAA;\n",
              "      --disabled-bg-color: #DDD;\n",
              "  }\n",
              "\n",
              "  [theme=dark] .colab-df-quickchart {\n",
              "      --bg-color: #3B4455;\n",
              "      --fill-color: #D2E3FC;\n",
              "      --hover-bg-color: #434B5C;\n",
              "      --hover-fill-color: #FFFFFF;\n",
              "      --disabled-bg-color: #3B4455;\n",
              "      --disabled-fill-color: #666;\n",
              "  }\n",
              "\n",
              "  .colab-df-quickchart {\n",
              "    background-color: var(--bg-color);\n",
              "    border: none;\n",
              "    border-radius: 50%;\n",
              "    cursor: pointer;\n",
              "    display: none;\n",
              "    fill: var(--fill-color);\n",
              "    height: 32px;\n",
              "    padding: 0;\n",
              "    width: 32px;\n",
              "  }\n",
              "\n",
              "  .colab-df-quickchart:hover {\n",
              "    background-color: var(--hover-bg-color);\n",
              "    box-shadow: 0 1px 2px rgba(60, 64, 67, 0.3), 0 1px 3px 1px rgba(60, 64, 67, 0.15);\n",
              "    fill: var(--button-hover-fill-color);\n",
              "  }\n",
              "\n",
              "  .colab-df-quickchart-complete:disabled,\n",
              "  .colab-df-quickchart-complete:disabled:hover {\n",
              "    background-color: var(--disabled-bg-color);\n",
              "    fill: var(--disabled-fill-color);\n",
              "    box-shadow: none;\n",
              "  }\n",
              "\n",
              "  .colab-df-spinner {\n",
              "    border: 2px solid var(--fill-color);\n",
              "    border-color: transparent;\n",
              "    border-bottom-color: var(--fill-color);\n",
              "    animation:\n",
              "      spin 1s steps(1) infinite;\n",
              "  }\n",
              "\n",
              "  @keyframes spin {\n",
              "    0% {\n",
              "      border-color: transparent;\n",
              "      border-bottom-color: var(--fill-color);\n",
              "      border-left-color: var(--fill-color);\n",
              "    }\n",
              "    20% {\n",
              "      border-color: transparent;\n",
              "      border-left-color: var(--fill-color);\n",
              "      border-top-color: var(--fill-color);\n",
              "    }\n",
              "    30% {\n",
              "      border-color: transparent;\n",
              "      border-left-color: var(--fill-color);\n",
              "      border-top-color: var(--fill-color);\n",
              "      border-right-color: var(--fill-color);\n",
              "    }\n",
              "    40% {\n",
              "      border-color: transparent;\n",
              "      border-right-color: var(--fill-color);\n",
              "      border-top-color: var(--fill-color);\n",
              "    }\n",
              "    60% {\n",
              "      border-color: transparent;\n",
              "      border-right-color: var(--fill-color);\n",
              "    }\n",
              "    80% {\n",
              "      border-color: transparent;\n",
              "      border-right-color: var(--fill-color);\n",
              "      border-bottom-color: var(--fill-color);\n",
              "    }\n",
              "    90% {\n",
              "      border-color: transparent;\n",
              "      border-bottom-color: var(--fill-color);\n",
              "    }\n",
              "  }\n",
              "</style>\n",
              "\n",
              "      <script>\n",
              "        async function quickchart(key) {\n",
              "          const quickchartButtonEl =\n",
              "            document.querySelector('#' + key + ' button');\n",
              "          quickchartButtonEl.disabled = true;  // To prevent multiple clicks.\n",
              "          quickchartButtonEl.classList.add('colab-df-spinner');\n",
              "          try {\n",
              "            const charts = await google.colab.kernel.invokeFunction(\n",
              "                'suggestCharts', [key], {});\n",
              "          } catch (error) {\n",
              "            console.error('Error during call to suggestCharts:', error);\n",
              "          }\n",
              "          quickchartButtonEl.classList.remove('colab-df-spinner');\n",
              "          quickchartButtonEl.classList.add('colab-df-quickchart-complete');\n",
              "        }\n",
              "        (() => {\n",
              "          let quickchartButtonEl =\n",
              "            document.querySelector('#df-730c5011-c6fd-457a-8f08-2e97d70662aa button');\n",
              "          quickchartButtonEl.style.display =\n",
              "            google.colab.kernel.accessAllowed ? 'block' : 'none';\n",
              "        })();\n",
              "      </script>\n",
              "    </div>\n",
              "\n",
              "  <div id=\"id_e377c050-52e1-491a-902c-3945c95cf373\">\n",
              "    <style>\n",
              "      .colab-df-generate {\n",
              "        background-color: #E8F0FE;\n",
              "        border: none;\n",
              "        border-radius: 50%;\n",
              "        cursor: pointer;\n",
              "        display: none;\n",
              "        fill: #1967D2;\n",
              "        height: 32px;\n",
              "        padding: 0 0 0 0;\n",
              "        width: 32px;\n",
              "      }\n",
              "\n",
              "      .colab-df-generate:hover {\n",
              "        background-color: #E2EBFA;\n",
              "        box-shadow: 0px 1px 2px rgba(60, 64, 67, 0.3), 0px 1px 3px 1px rgba(60, 64, 67, 0.15);\n",
              "        fill: #174EA6;\n",
              "      }\n",
              "\n",
              "      [theme=dark] .colab-df-generate {\n",
              "        background-color: #3B4455;\n",
              "        fill: #D2E3FC;\n",
              "      }\n",
              "\n",
              "      [theme=dark] .colab-df-generate:hover {\n",
              "        background-color: #434B5C;\n",
              "        box-shadow: 0px 1px 3px 1px rgba(0, 0, 0, 0.15);\n",
              "        filter: drop-shadow(0px 1px 2px rgba(0, 0, 0, 0.3));\n",
              "        fill: #FFFFFF;\n",
              "      }\n",
              "    </style>\n",
              "    <button class=\"colab-df-generate\" onclick=\"generateWithVariable('df_vocab')\"\n",
              "            title=\"Generate code using this dataframe.\"\n",
              "            style=\"display:none;\">\n",
              "\n",
              "  <svg xmlns=\"http://www.w3.org/2000/svg\" height=\"24px\"viewBox=\"0 0 24 24\"\n",
              "       width=\"24px\">\n",
              "    <path d=\"M7,19H8.4L18.45,9,17,7.55,7,17.6ZM5,21V16.75L18.45,3.32a2,2,0,0,1,2.83,0l1.4,1.43a1.91,1.91,0,0,1,.58,1.4,1.91,1.91,0,0,1-.58,1.4L9.25,21ZM18.45,9,17,7.55Zm-12,3A5.31,5.31,0,0,0,4.9,8.1,5.31,5.31,0,0,0,1,6.5,5.31,5.31,0,0,0,4.9,4.9,5.31,5.31,0,0,0,6.5,1,5.31,5.31,0,0,0,8.1,4.9,5.31,5.31,0,0,0,12,6.5,5.46,5.46,0,0,0,6.5,12Z\"/>\n",
              "  </svg>\n",
              "    </button>\n",
              "    <script>\n",
              "      (() => {\n",
              "      const buttonEl =\n",
              "        document.querySelector('#id_e377c050-52e1-491a-902c-3945c95cf373 button.colab-df-generate');\n",
              "      buttonEl.style.display =\n",
              "        google.colab.kernel.accessAllowed ? 'block' : 'none';\n",
              "\n",
              "      buttonEl.onclick = () => {\n",
              "        google.colab.notebook.generateWithVariable('df_vocab');\n",
              "      }\n",
              "      })();\n",
              "    </script>\n",
              "  </div>\n",
              "\n",
              "    </div>\n",
              "  </div>\n"
            ],
            "application/vnd.google.colaboratory.intrinsic+json": {
              "type": "dataframe",
              "variable_name": "df_vocab",
              "summary": "{\n  \"name\": \"df_vocab\",\n  \"rows\": 6,\n  \"fields\": [\n    {\n      \"column\": \"num_examples\",\n      \"properties\": {\n        \"dtype\": \"number\",\n        \"std\": 7499,\n        \"min\": 500,\n        \"max\": 20000,\n        \"num_unique_values\": 6,\n        \"samples\": [\n          500,\n          1000,\n          20000\n        ],\n        \"semantic_type\": \"\",\n        \"description\": \"\"\n      }\n    },\n    {\n      \"column\": \"vocab_src\",\n      \"properties\": {\n        \"dtype\": \"number\",\n        \"std\": 886,\n        \"min\": 159,\n        \"max\": 2459,\n        \"num_unique_values\": 6,\n        \"samples\": [\n          159,\n          266,\n          2459\n        ],\n        \"semantic_type\": \"\",\n        \"description\": \"\"\n      }\n    },\n    {\n      \"column\": \"vocab_tgt\",\n      \"properties\": {\n        \"dtype\": \"number\",\n        \"std\": 1412,\n        \"min\": 163,\n        \"max\": 3828,\n        \"num_unique_values\": 6,\n        \"samples\": [\n          163,\n          321,\n          3828\n        ],\n        \"semantic_type\": \"\",\n        \"description\": \"\"\n      }\n    }\n  ]\n}"
            }
          },
          "metadata": {},
          "execution_count": 10
        }
      ]
    },
    {
      "cell_type": "code",
      "source": [
        "plt.figure()\n",
        "plt.plot(df_vocab[\"num_examples\"], df_vocab[\"vocab_src\"], marker=\"o\", label=\"SRC vocab\")\n",
        "plt.plot(df_vocab[\"num_examples\"], df_vocab[\"vocab_tgt\"], marker=\"o\", label=\"TGT vocab\")\n",
        "plt.xlabel(\"num_examples\")\n",
        "plt.ylabel(\"vocab size\")\n",
        "plt.title(\"Tamanho do vocabulário vs. nº de exemplos\")\n",
        "plt.legend()\n",
        "plt.show()\n"
      ],
      "metadata": {
        "colab": {
          "base_uri": "https://localhost:8080/",
          "height": 472
        },
        "id": "y3rVyjyTfOT6",
        "outputId": "93dc14a2-209c-4e7e-b91a-94ac57af5ac9"
      },
      "execution_count": 11,
      "outputs": [
        {
          "output_type": "display_data",
          "data": {
            "text/plain": [
              "<Figure size 640x480 with 1 Axes>"
            ],
            "image/png": "[encoded data removed]"
          },
          "metadata": {}
        }
      ]
    },
    {
      "cell_type": "code",
      "source": [],
      "metadata": {
        "id": "JPrSdIzNfQ_N"
      },
      "execution_count": null,
      "outputs": []
    }
  ]
}